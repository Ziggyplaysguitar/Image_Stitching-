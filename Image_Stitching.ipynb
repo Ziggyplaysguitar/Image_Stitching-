{
 "cells": [
  {
   "cell_type": "markdown",
   "metadata": {},
   "source": [
    "# Image Stitching"
   ]
  },
  {
   "cell_type": "code",
   "execution_count": 1,
   "metadata": {
    "ExecuteTime": {
     "end_time": "2020-02-26T12:52:49.164642Z",
     "start_time": "2020-02-26T12:52:48.700231Z"
    }
   },
   "outputs": [],
   "source": [
    "import cv2\n",
    "import numpy as np\n",
    "import random\n",
    "import matplotlib.pyplot as plt"
   ]
  },
  {
   "cell_type": "markdown",
   "metadata": {
    "ExecuteTime": {
     "end_time": "2020-02-26T13:11:55.837560Z",
     "start_time": "2020-02-26T13:11:55.833570Z"
    }
   },
   "source": [
    "## Code"
   ]
  },
  {
   "cell_type": "code",
   "execution_count": 4,
   "metadata": {
    "ExecuteTime": {
     "end_time": "2020-02-26T12:57:29.738921Z",
     "start_time": "2020-02-26T12:57:29.140979Z"
    }
   },
   "outputs": [],
   "source": [
    "# 主代码部分\n",
    "img1 = cv2.imread('scenery1.jpg')\n",
    "img2 = cv2.imread('scenery2.jpg')\n",
    "\n",
    "sift = cv2.xfeatures2d.SIFT_create()\n",
    "    \n",
    "kp1, des1 = sift.detectAndCompute(img1, None)\n",
    "kp2, des2 = sift.detectAndCompute(img2, None)\n",
    "    \n",
    "bf = cv2.BFMatcher()\n",
    "matches = bf.knnMatch(des1, des2, k = 2) \n",
    "    \n",
    "#     print('kp1:',kp1[0])            kp1: <KeyPoint 000001918B2CC5D0>                                      \n",
    "#     print('des1:',des1.shape)       des1: (3967, 128)                                                    \n",
    "#     print('matches:',matches[0])    matches: [<DMatch 000001918B698510>, <DMatch 000001918B698A10>] \n",
    "    \n",
    "#     print(type(kp1[0]))             <class 'cv2.KeyPoint'> \n",
    "#     print(type(des1))               <class 'numpy.ndarray'>\n",
    "#     print(type(matches[0][0]))      <class 'cv2.DMatch'>\n",
    "\n",
    "good = [[m] for m, n in matches if m.distance < 0.5 * n.distance]   # ratio等于0.5\n",
    "\n",
    "\n",
    "src_pts = np.array([kp1[m.queryIdx].pt for [m] in good])    # 原图的点坐标 img1\n",
    "dst_pts = np.array([kp2[m.trainIdx].pt for [m] in good])    # 目标图的点坐标 img2\n",
    "\n",
    "H = cv2.findHomography(src_pts, dst_pts, cv2.RANSAC)         # 生成单应性矩阵\n",
    "\n",
    "h, w = img1.shape[: 2]\n",
    "h1, w1 = img2.shape[: 2]\n",
    "\n",
    "shift = np.array([[1.0, 0, w], [0, 1.0, 0], [0, 0, 1.0]])\n",
    "M = np.dot(shift, H[0])            # 获取左边图像到右边图像的投影映射关系\n",
    "\n",
    "dst_corners = cv2.warpPerspective(img1, M, (w * 2, h))# 透视变换，新图像可容纳完整的两幅图\n",
    "\n",
    "dst_corners[0: h1, w: w + w1] = img2  # 将第二幅图放在右侧"
   ]
  },
  {
   "cell_type": "code",
   "execution_count": 5,
   "metadata": {
    "ExecuteTime": {
     "end_time": "2020-02-26T12:57:33.382910Z",
     "start_time": "2020-02-26T12:57:31.049050Z"
    }
   },
   "outputs": [],
   "source": [
    "cv2.imshow('Stitched_img',dst_corners)\n",
    "\n",
    "key = cv2.waitKey(0)\n",
    "if key == 27:\n",
    "    cv2.destroyAllWindows()"
   ]
  },
  {
   "cell_type": "markdown",
   "metadata": {},
   "source": [
    "## Reference"
   ]
  },
  {
   "cell_type": "markdown",
   "metadata": {
    "ExecuteTime": {
     "end_time": "2020-02-26T13:13:11.801682Z",
     "start_time": "2020-02-26T13:13:11.795698Z"
    }
   },
   "source": [
    "- [关于knnMatch](https://www.cnblogs.com/zyly/p/9646201.html)\n",
    "- [HOG](https://blog.csdn.net/passball/article/details/82254256)\n",
    "- [SIFT详解](https://www.jianshu.com/p/14b92d3fd6f8)"
   ]
  }
 ],
 "metadata": {
  "kernelspec": {
   "display_name": "Python 3",
   "language": "python",
   "name": "python3"
  },
  "language_info": {
   "codemirror_mode": {
    "name": "ipython",
    "version": 3
   },
   "file_extension": ".py",
   "mimetype": "text/x-python",
   "name": "python",
   "nbconvert_exporter": "python",
   "pygments_lexer": "ipython3",
   "version": "3.7.6"
  },
  "toc": {
   "base_numbering": 1,
   "nav_menu": {},
   "number_sections": false,
   "sideBar": true,
   "skip_h1_title": false,
   "title_cell": "Table of Contents",
   "title_sidebar": "Contents",
   "toc_cell": false,
   "toc_position": {},
   "toc_section_display": true,
   "toc_window_display": true
  }
 },
 "nbformat": 4,
 "nbformat_minor": 2
}
